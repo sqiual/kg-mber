{
 "cells": [
  {
   "cell_type": "code",
   "execution_count": 5,
   "id": "e7251e57-6789-4889-9ce9-e086c1ccc291",
   "metadata": {
    "scrolled": true
   },
   "outputs": [],
   "source": [
    "!python main.py "
   ]
  },
  {
   "cell_type": "code",
   "execution_count": null,
   "id": "4ebd2150-672a-47e6-9627-3479b465a5a1",
   "metadata": {},
   "outputs": [],
   "source": []
  }
 ],
 "metadata": {
  "kernelspec": {
   "display_name": "Python 3 (ipykernel)",
   "language": "python",
   "name": "python3"
  },
  "language_info": {
   "codemirror_mode": {
    "name": "ipython",
    "version": 3
   },
   "file_extension": ".py",
   "mimetype": "text/x-python",
   "name": "python",
   "nbconvert_exporter": "python",
   "pygments_lexer": "ipython3",
   "version": "3.9.13"
  }
 },
 "nbformat": 4,
 "nbformat_minor": 5
}
